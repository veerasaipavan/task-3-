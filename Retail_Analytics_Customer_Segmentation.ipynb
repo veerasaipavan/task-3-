{
 "cells": [
  {
   "cell_type": "markdown",
   "id": "15c6cbfd",
   "metadata": {
    "vscode": {
     "languageId": "plaintext"
    }
   },
   "source": [
    "#  Retail Analytics & Customer Segmentation Project"
   ]
  },
  {
   "cell_type": "code",
   "execution_count": null,
   "id": "bcf0080f",
   "metadata": {},
   "outputs": [],
   "source": [
    "import pandas as pd\n",
    "import numpy as np\n",
    "import matplotlib.pyplot as plt\n",
    "import seaborn as sns\n",
    "\n",
    "from sklearn.preprocessing import StandardScaler\n",
    "from sklearn.cluster import KMeans\n",
    "from sklearn.decomposition import PCA"
   ]
  },
  {
   "cell_type": "markdown",
   "id": "f06f13bc",
   "metadata": {
    "vscode": {
     "languageId": "plaintext"
    }
   },
   "source": [
    "# Step 1: Load Raw Excel"
   ]
  },
  {
   "cell_type": "code",
   "execution_count": null,
   "id": "2efe05ac",
   "metadata": {},
   "outputs": [],
   "source": [
    "file_path = r\"C:\\Users\\veera\\OneDrive\\Documents\\Desktop\\sales\\archive\\Global_Superstore2.xlsx\"\n",
    "xls = pd.ExcelFile(file_path)\n",
    "\n",
    "print(\"Available Sheets:\", xls.sheet_names)\n",
    "df = xls.parse(xls.sheet_names[0])\n",
    "print(\"Original shape:\", df.shape)"
   ]
  },
  {
   "cell_type": "markdown",
   "id": "4d2c1bc6",
   "metadata": {
    "vscode": {
     "languageId": "plaintext"
    }
   },
   "source": [
    "# Step 2: Data Cleaning"
   ]
  },
  {
   "cell_type": "code",
   "execution_count": null,
   "id": "8238057d",
   "metadata": {},
   "outputs": [],
   "source": [
    "df['Order Date'] = pd.to_datetime(df['Order Date'], format='%d-%m-%Y', errors='coerce')\n",
    "df['Ship Date'] = pd.to_datetime(df['Ship Date'], format='%d-%m-%Y', errors='coerce')\n",
    "\n",
    "df['Delivery Days'] = (df['Ship Date'] - df['Order Date']).dt.days\n",
    "df['Postal Code'] = df['Postal Code'].fillna(-1).astype(int).astype(str)\n",
    "df.drop_duplicates(inplace=True)\n",
    "\n",
    "numeric_cols = ['Sales', 'Profit', 'Discount', 'Quantity', 'Shipping Cost']\n",
    "for col in numeric_cols:\n",
    "    df[col] = pd.to_numeric(df[col], errors='coerce')"
   ]
  },
  {
   "cell_type": "markdown",
   "id": "13dfe842",
   "metadata": {
    "vscode": {
     "languageId": "plaintext"
    }
   },
   "source": [
    "# Step 3: Save Cleaned Data for build  meaningful insights in powerbi"
   ]
  },
  {
   "cell_type": "code",
   "execution_count": null,
   "id": "df6d62b0",
   "metadata": {},
   "outputs": [],
   "source": [
    "df.to_csv(\"global_superstore_cleaned.csv\", index=False)\n",
    "print(\"Saved: global_superstore_cleaned.csv\")\n",
    "print(\"Final shape:\", df.shape)"
   ]
  },
  {
   "cell_type": "markdown",
   "id": "e24945cd",
   "metadata": {
    "vscode": {
     "languageId": "plaintext"
    }
   },
   "source": [
    "# Step 4: Exploratory Data Analysis"
   ]
  },
  {
   "cell_type": "code",
   "execution_count": null,
   "id": "7cf5e349",
   "metadata": {},
   "outputs": [],
   "source": [
    "df['Month'] = df['Order Date'].dt.to_period('M')\n",
    "\n",
    "# 1. Sales by Region\n",
    "plt.figure(figsize=(10, 5))\n",
    "df.groupby('Region')['Sales'].sum().sort_values().plot(kind='barh', color='skyblue')\n",
    "plt.title(\"Total Sales by Region\")\n",
    "plt.xlabel(\"Sales\")\n",
    "plt.tight_layout()\n",
    "plt.show()\n",
    "\n",
    "# 2. Profit by Category\n",
    "plt.figure(figsize=(8, 5))\n",
    "df.groupby('Category')['Profit'].sum().sort_values(ascending=False).plot(kind='bar', color='lightgreen')\n",
    "plt.title(\"Total Profit by Product Category\")\n",
    "plt.ylabel(\"Profit\")\n",
    "plt.tight_layout()\n",
    "plt.show()\n",
    "\n",
    "# 3. Monthly Sales Trend\n",
    "plt.figure(figsize=(12, 5))\n",
    "df.groupby('Month')['Sales'].sum().plot(marker='o')\n",
    "plt.title(\"Monthly Sales Trend\")\n",
    "plt.ylabel(\"Sales\")\n",
    "plt.xlabel(\"Month\")\n",
    "plt.grid(True)\n",
    "plt.tight_layout()\n",
    "plt.show()\n",
    "\n",
    "# 4. Discount vs Profit\n",
    "plt.figure(figsize=(7, 5))\n",
    "sns.scatterplot(data=df, x='Discount', y='Profit', hue='Category', alpha=0.7)\n",
    "plt.title(\"Discount vs Profit (by Category)\")\n",
    "plt.tight_layout()\n",
    "plt.show()\n",
    "\n",
    "# 5. Profit vs Delivery Days\n",
    "plt.figure(figsize=(8, 5))\n",
    "sns.scatterplot(data=df, x='Delivery Days', y='Profit', hue='Ship Mode', alpha=0.6)\n",
    "plt.title(\"Profit vs Delivery Days (by Ship Mode)\")\n",
    "plt.xlabel(\"Delivery Days\")\n",
    "plt.ylabel(\"Profit\")\n",
    "plt.grid(True)\n",
    "plt.tight_layout()\n",
    "plt.show()\n",
    "\n",
    "# 6. Top 10 Customers\n",
    "top_customers = df.groupby(['Customer ID', 'Customer Name']).agg({'Sales': 'sum', 'Profit': 'sum'}).sort_values(by='Sales', ascending=False).head(10).reset_index()\n",
    "plt.figure(figsize=(10, 5))\n",
    "sns.barplot(data=top_customers.sort_values('Profit', ascending=False), y='Customer Name', x='Profit', palette='Greens_d', hue='Customer Name', dodge=False, legend=False)\n",
    "plt.title(\"Top 10 Customers by Sales\")\n",
    "plt.xlabel(\"Sales\")\n",
    "plt.ylabel(\"Customer\")\n",
    "plt.tight_layout()\n",
    "plt.show()"
   ]
  },
  {
   "cell_type": "markdown",
   "id": "5e038311",
   "metadata": {
    "vscode": {
     "languageId": "plaintext"
    }
   },
   "source": [
    "# Step 5: convert order date into datetime format(type casting)"
   ]
  },
  {
   "cell_type": "code",
   "execution_count": null,
   "id": "c5887094",
   "metadata": {},
   "outputs": [],
   "source": [
    "df = pd.read_csv(\"global_superstore_cleaned.csv\")\n",
    "df['Order Date'] = pd.to_datetime(df['Order Date'])"
   ]
  },
  {
   "cell_type": "markdown",
   "id": "8a77d462",
   "metadata": {
    "vscode": {
     "languageId": "plaintext"
    }
   },
   "source": [
    "# Step 6: Build RFM Table"
   ]
  },
  {
   "cell_type": "code",
   "execution_count": null,
   "id": "4d91c36f",
   "metadata": {},
   "outputs": [],
   "source": [
    "latest_date = df['Order Date'].max()\n",
    "rfm = df.groupby('Customer ID').agg({\n",
    "    'Order Date': lambda x: (latest_date - x.max()).days,\n",
    "    'Order ID': 'nunique',\n",
    "    'Sales': 'sum'\n",
    "}).reset_index()\n",
    "rfm.columns = ['Customer ID', 'Recency', 'Frequency', 'Monetary']"
   ]
  },
  {
   "cell_type": "markdown",
   "id": "db63de8a",
   "metadata": {
    "vscode": {
     "languageId": "plaintext"
    }
   },
   "source": [
    "# Step 7: KMeans Clustering"
   ]
  },
  {
   "cell_type": "code",
   "execution_count": null,
   "id": "1f145840",
   "metadata": {},
   "outputs": [],
   "source": [
    "scaler = StandardScaler()\n",
    "rfm_scaled = scaler.fit_transform(rfm[['Recency', 'Frequency', 'Monetary']])\n",
    "\n",
    "# Elbow method\n",
    "inertia = []\n",
    "for k in range(1, 10):\n",
    "    kmeans = KMeans(n_clusters=k, random_state=42)\n",
    "    kmeans.fit(rfm_scaled)\n",
    "    inertia.append(kmeans.inertia_)\n",
    "\n",
    "plt.plot(range(1, 10), inertia, marker='o')\n",
    "plt.xlabel(\"Number of Clusters\")\n",
    "plt.ylabel(\"Inertia\")\n",
    "plt.title(\"Elbow Method for Optimal K\")\n",
    "plt.grid(True)\n",
    "plt.tight_layout()\n",
    "plt.show()\n",
    "\n",
    "# Final model\n",
    "kmeans = KMeans(n_clusters=4, random_state=42)\n",
    "rfm['Segment'] = kmeans.fit_predict(rfm_scaled)\n",
    "print(rfm.groupby('Segment')[['Recency', 'Frequency', 'Monetary']].mean())"
   ]
  },
  {
   "cell_type": "markdown",
   "id": "c9ebe7c9",
   "metadata": {
    "vscode": {
     "languageId": "plaintext"
    }
   },
   "source": [
    "# Step 8: PCA Visualization"
   ]
  },
  {
   "cell_type": "code",
   "execution_count": null,
   "id": "cd7862da",
   "metadata": {},
   "outputs": [],
   "source": [
    "pca = PCA(n_components=2)\n",
    "rfm_pca = pca.fit_transform(rfm_scaled)\n",
    "rfm['x'] = rfm_pca[:, 0]\n",
    "rfm['y'] = rfm_pca[:, 1]\n",
    "\n",
    "plt.figure(figsize=(8, 6))\n",
    "sns.scatterplot(data=rfm, x='x', y='y', hue='Segment', palette='Set2', s=100)\n",
    "plt.title(\"Customer Segments (via PCA + KMeans)\")\n",
    "plt.xlabel(\"PCA 1\")\n",
    "plt.ylabel(\"PCA 2\")\n",
    "plt.tight_layout()\n",
    "plt.show()"
   ]
  },
  {
   "cell_type": "markdown",
   "id": "8568e151",
   "metadata": {
    "vscode": {
     "languageId": "plaintext"
    }
   },
   "source": [
    "# Step 9: Save Segments for build dashboards"
   ]
  },
  {
   "cell_type": "code",
   "execution_count": null,
   "id": "b99c1bcf",
   "metadata": {},
   "outputs": [],
   "source": [
    "rfm.to_csv(\"customer_segments.csv\", index=False)\n",
    "print(\"Saved: customer_segments.csv\")"
   ]
  }
 ],
 "metadata": {
  "language_info": {
   "name": "python"
  }
 },
 "nbformat": 4,
 "nbformat_minor": 5
}
